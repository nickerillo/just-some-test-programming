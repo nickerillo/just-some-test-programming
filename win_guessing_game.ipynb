{
 "cells": [
  {
   "cell_type": "code",
   "execution_count": 6,
   "metadata": {},
   "outputs": [
    {
     "name": "stdout",
     "output_type": "stream",
     "text": [
      "your guess form 0 to 100 \n",
      "50\n",
      "\n",
      "cold\n",
      "your next guess \n",
      " \n",
      " \n",
      "60\n",
      "colder\n",
      "your next guess \n",
      " \n",
      " \n",
      "30\n",
      "warmer\n",
      "your next guess \n",
      " \n",
      " \n",
      "10\n",
      "colder\n",
      "your next guess \n",
      " \n",
      " \n",
      "45\n",
      "warmer\n",
      "your next guess \n",
      " \n",
      " \n",
      "35\n",
      "warmer\n",
      "your next guess \n",
      " \n",
      " \n",
      "28\n",
      "colder\n",
      "your next guess \n",
      " \n",
      " \n",
      "33\n",
      "warmer\n",
      "your next guess \n",
      " \n",
      " \n",
      "38\n",
      "warmer\n",
      "your next guess \n",
      " \n",
      " \n",
      "41\n",
      "colder\n",
      "your next guess \n",
      " \n",
      " \n",
      "37\n",
      "warmer\n",
      "your next guess \n",
      " \n",
      " \n",
      "36\n",
      "36 is correct you did it in 12 tries\n"
     ]
    }
   ],
   "source": [
    "from random import randint\n",
    "b = randint(0,100)\n",
    "\n",
    "#print(b)\n",
    "\n",
    "a = int(input('your guess form 0 to 100 \\n'))\n",
    "\n",
    "count = 1\n",
    "\n",
    "if 0 < a - b <= 10 or 0 < b - a <= 10:\n",
    "    print('\\nwarm')\n",
    "\n",
    "elif a == b:\n",
    "    if count == 1:\n",
    "        print('first try u are a god')\n",
    "\n",
    "else:\n",
    "    print('\\ncold')\n",
    "\n",
    "while a != b :\n",
    "    \n",
    "    count += 1\n",
    "    \n",
    "    an = int(input('your next guess \\n \\n \\n'))\n",
    "    \n",
    "    if an == b:\n",
    "        print('{} is correct you did it in {} tries'.format(an, count))\n",
    "    \n",
    "    \n",
    "    elif abs(a-b) > abs(an-b):\n",
    "        print('warmer')\n",
    "\n",
    "    else:\n",
    "        print('colder')\n",
    "\n",
    "    a = an"
   ]
  },
  {
   "cell_type": "code",
   "execution_count": null,
   "metadata": {},
   "outputs": [],
   "source": []
  },
  {
   "cell_type": "code",
   "execution_count": null,
   "metadata": {},
   "outputs": [],
   "source": [
    "\n",
    "    "
   ]
  },
  {
   "cell_type": "code",
   "execution_count": null,
   "metadata": {},
   "outputs": [],
   "source": []
  },
  {
   "cell_type": "code",
   "execution_count": null,
   "metadata": {},
   "outputs": [],
   "source": []
  }
 ],
 "metadata": {
  "kernelspec": {
   "display_name": "Python 3",
   "language": "python",
   "name": "python3"
  },
  "language_info": {
   "codemirror_mode": {
    "name": "ipython",
    "version": 3
   },
   "file_extension": ".py",
   "mimetype": "text/x-python",
   "name": "python",
   "nbconvert_exporter": "python",
   "pygments_lexer": "ipython3",
   "version": "3.7.0"
  }
 },
 "nbformat": 4,
 "nbformat_minor": 2
}
