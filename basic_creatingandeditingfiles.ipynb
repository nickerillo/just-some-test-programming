{
 "cells": [
  {
   "cell_type": "code",
   "execution_count": 1,
   "metadata": {},
   "outputs": [
    {
     "data": {
      "text/plain": [
       "'C:\\\\Users\\\\Nick'"
      ]
     },
     "execution_count": 1,
     "metadata": {},
     "output_type": "execute_result"
    }
   ],
   "source": [
    "pwd"
   ]
  },
  {
   "cell_type": "code",
   "execution_count": 2,
   "metadata": {},
   "outputs": [
    {
     "name": "stdout",
     "output_type": "stream",
     "text": [
      " Volume in Laufwerk C: hat keine Bezeichnung.\n",
      " Volumeseriennummer: FAA6-7E5C\n",
      "\n",
      " Verzeichnis von C:\\Users\\Nick\n",
      "\n",
      "03.12.2018  12:36    <DIR>          .anaconda\n",
      "21.11.2018  14:04    <DIR>          .atom\n",
      "05.12.2018  17:33                15 .bash_history\n",
      "13.12.2018  15:42    <DIR>          .conda\n",
      "13.12.2018  15:41                43 .condarc\n",
      "05.12.2018  17:37               256 .gitconfig\n",
      "28.11.2018  15:26    <DIR>          .idlerc\n",
      "13.12.2018  15:42    <DIR>          .ipynb_checkpoints\n",
      "07.12.2018  16:18    <DIR>          .ipython\n",
      "10.12.2018  15:56    <DIR>          .jupyter\n",
      "15.06.2017  14:39    <DIR>          .MCTranscodingSDK\n",
      "21.01.2017  18:03    <DIR>          .QtWebEngineProcess\n",
      "21.01.2017  18:03    <DIR>          .TeamSpeak 3\n",
      "12.12.2018  15:15    <DIR>          3D Objects\n",
      "11.12.2018  15:51             5.580 basic_dictionaries.ipynb\n",
      "11.12.2018  12:31             9.499 basic_list.ipynb\n",
      "10.12.2018  15:52    <DIR>          CloudStation\n",
      "12.12.2018  15:15    <DIR>          Contacts\n",
      "12.12.2018  15:15    <DIR>          Desktop\n",
      "12.12.2018  15:15    <DIR>          Documents\n",
      "12.12.2018  15:15    <DIR>          Downloads\n",
      "28.11.2018  15:47    <DIR>          exploring\n",
      "12.12.2018  15:15    <DIR>          Favorites\n",
      "10.12.2018  17:01             1.833 formating_strings.ipynb\n",
      "16.09.2016  21:24    <DIR>          Intel\n",
      "10.12.2018  16:16    <DIR>          learning\n",
      "12.12.2018  15:15    <DIR>          Links\n",
      "12.12.2018  15:15    <DIR>          Music\n",
      "03.12.2018  13:02    <DIR>          OneDrive\n",
      "12.12.2018  15:15    <DIR>          Pictures\n",
      "12.12.2018  15:15    <DIR>          Saved Games\n",
      "12.12.2018  15:15    <DIR>          Searches\n",
      "21.11.2018  15:12    <DIR>          temp\n",
      "12.12.2018  15:42             6.458 tuples, sets and booleans.ipynb\n",
      "07.12.2018  16:44             5.152 Untitled.ipynb\n",
      "07.12.2018  16:18                 0 untitled.txt\n",
      "10.12.2018  16:59             1.469 Untitled1.ipynb\n",
      "11.12.2018  12:30             9.499 Untitled2.ipynb\n",
      "11.12.2018  13:08             4.867 Untitled3.ipynb\n",
      "12.12.2018  15:34             5.563 Untitled4.ipynb\n",
      "13.12.2018  15:42                72 Untitled5.ipynb\n",
      "12.12.2018  15:15    <DIR>          Videos\n",
      "              14 Datei(en),         50.306 Bytes\n",
      "              28 Verzeichnis(se),  6.488.403.968 Bytes frei\n"
     ]
    }
   ],
   "source": [
    "ls"
   ]
  },
  {
   "cell_type": "code",
   "execution_count": 4,
   "metadata": {},
   "outputs": [
    {
     "name": "stdout",
     "output_type": "stream",
     "text": [
      "Writing my_file.txt\n"
     ]
    }
   ],
   "source": [
    "%%writefile my_file.txt\n",
    "Hello fist line\n",
    "Secundos\n",
    "and last but not least the third one"
   ]
  },
  {
   "cell_type": "code",
   "execution_count": 5,
   "metadata": {},
   "outputs": [
    {
     "data": {
      "text/plain": [
       "'C:\\\\Users\\\\Nick'"
      ]
     },
     "execution_count": 5,
     "metadata": {},
     "output_type": "execute_result"
    }
   ],
   "source": [
    "pwd"
   ]
  },
  {
   "cell_type": "code",
   "execution_count": 6,
   "metadata": {},
   "outputs": [
    {
     "name": "stdout",
     "output_type": "stream",
     "text": [
      " Volume in Laufwerk C: hat keine Bezeichnung.\n",
      " Volumeseriennummer: FAA6-7E5C\n",
      "\n",
      " Verzeichnis von C:\\Users\\Nick\n",
      "\n",
      "03.12.2018  12:36    <DIR>          .anaconda\n",
      "21.11.2018  14:04    <DIR>          .atom\n",
      "05.12.2018  17:33                15 .bash_history\n",
      "13.12.2018  15:45    <DIR>          .conda\n",
      "13.12.2018  15:41                43 .condarc\n",
      "05.12.2018  17:37               256 .gitconfig\n",
      "28.11.2018  15:26    <DIR>          .idlerc\n",
      "13.12.2018  15:42    <DIR>          .ipynb_checkpoints\n",
      "07.12.2018  16:18    <DIR>          .ipython\n",
      "10.12.2018  15:56    <DIR>          .jupyter\n",
      "15.06.2017  14:39    <DIR>          .MCTranscodingSDK\n",
      "21.01.2017  18:03    <DIR>          .QtWebEngineProcess\n",
      "21.01.2017  18:03    <DIR>          .TeamSpeak 3\n",
      "12.12.2018  15:15    <DIR>          3D Objects\n",
      "11.12.2018  15:51             5.580 basic_dictionaries.ipynb\n",
      "11.12.2018  12:31             9.499 basic_list.ipynb\n",
      "10.12.2018  15:52    <DIR>          CloudStation\n",
      "12.12.2018  15:15    <DIR>          Contacts\n",
      "12.12.2018  15:15    <DIR>          Desktop\n",
      "12.12.2018  15:15    <DIR>          Documents\n",
      "12.12.2018  15:15    <DIR>          Downloads\n",
      "28.11.2018  15:47    <DIR>          exploring\n",
      "12.12.2018  15:15    <DIR>          Favorites\n",
      "10.12.2018  17:01             1.833 formating_strings.ipynb\n",
      "16.09.2016  21:24    <DIR>          Intel\n",
      "10.12.2018  16:16    <DIR>          learning\n",
      "12.12.2018  15:15    <DIR>          Links\n",
      "12.12.2018  15:15    <DIR>          Music\n",
      "13.12.2018  15:45                63 my_file.txt\n",
      "03.12.2018  13:02    <DIR>          OneDrive\n",
      "12.12.2018  15:15    <DIR>          Pictures\n",
      "12.12.2018  15:15    <DIR>          Saved Games\n",
      "12.12.2018  15:15    <DIR>          Searches\n",
      "21.11.2018  15:12    <DIR>          temp\n",
      "12.12.2018  15:42             6.458 tuples, sets and booleans.ipynb\n",
      "07.12.2018  16:44             5.152 Untitled.ipynb\n",
      "07.12.2018  16:18                 0 untitled.txt\n",
      "10.12.2018  16:59             1.469 Untitled1.ipynb\n",
      "11.12.2018  12:30             9.499 Untitled2.ipynb\n",
      "11.12.2018  13:08             4.867 Untitled3.ipynb\n",
      "12.12.2018  15:34             5.563 Untitled4.ipynb\n",
      "13.12.2018  15:44             3.892 Untitled5.ipynb\n",
      "12.12.2018  15:15    <DIR>          Videos\n",
      "              15 Datei(en),         54.189 Bytes\n",
      "              28 Verzeichnis(se),  6.483.181.568 Bytes frei\n"
     ]
    }
   ],
   "source": [
    "ls"
   ]
  },
  {
   "cell_type": "code",
   "execution_count": 10,
   "metadata": {},
   "outputs": [],
   "source": [
    "getfile = open('my_file.txt')"
   ]
  },
  {
   "cell_type": "code",
   "execution_count": 12,
   "metadata": {},
   "outputs": [
    {
     "data": {
      "text/plain": [
       "'Hello fist line\\nSecundos\\nand last but not least the third one'"
      ]
     },
     "execution_count": 12,
     "metadata": {},
     "output_type": "execute_result"
    }
   ],
   "source": [
    "getfile.read()"
   ]
  },
  {
   "cell_type": "code",
   "execution_count": 13,
   "metadata": {},
   "outputs": [
    {
     "data": {
      "text/plain": [
       "''"
      ]
     },
     "execution_count": 13,
     "metadata": {},
     "output_type": "execute_result"
    }
   ],
   "source": [
    "getfile.read()"
   ]
  },
  {
   "cell_type": "code",
   "execution_count": 14,
   "metadata": {},
   "outputs": [
    {
     "data": {
      "text/plain": [
       "0"
      ]
     },
     "execution_count": 14,
     "metadata": {},
     "output_type": "execute_result"
    }
   ],
   "source": [
    "getfile.seek(0)"
   ]
  },
  {
   "cell_type": "code",
   "execution_count": 16,
   "metadata": {},
   "outputs": [
    {
     "data": {
      "text/plain": [
       "'Hello fist line\\nSecundos\\nand last but not least the third one'"
      ]
     },
     "execution_count": 16,
     "metadata": {},
     "output_type": "execute_result"
    }
   ],
   "source": [
    "getfile.read()"
   ]
  },
  {
   "cell_type": "code",
   "execution_count": 22,
   "metadata": {},
   "outputs": [
    {
     "data": {
      "text/plain": [
       "0"
      ]
     },
     "execution_count": 22,
     "metadata": {},
     "output_type": "execute_result"
    }
   ],
   "source": [
    "getfile.seek(0)"
   ]
  },
  {
   "cell_type": "code",
   "execution_count": 23,
   "metadata": {},
   "outputs": [
    {
     "data": {
      "text/plain": [
       "['Hello fist line\\n', 'Secundos\\n', 'and last but not least the third one']"
      ]
     },
     "execution_count": 23,
     "metadata": {},
     "output_type": "execute_result"
    }
   ],
   "source": [
    "getfile.readlines()"
   ]
  },
  {
   "cell_type": "code",
   "execution_count": 24,
   "metadata": {},
   "outputs": [],
   "source": [
    "getfile.close()"
   ]
  },
  {
   "cell_type": "code",
   "execution_count": 26,
   "metadata": {},
   "outputs": [],
   "source": [
    "with open('my_file.txt') as t:\n",
    "    content = t.read()"
   ]
  },
  {
   "cell_type": "code",
   "execution_count": 27,
   "metadata": {},
   "outputs": [
    {
     "data": {
      "text/plain": [
       "'Hello fist line\\nSecundos\\nand last but not least the third one'"
      ]
     },
     "execution_count": 27,
     "metadata": {},
     "output_type": "execute_result"
    }
   ],
   "source": [
    "content"
   ]
  },
  {
   "cell_type": "code",
   "execution_count": 29,
   "metadata": {},
   "outputs": [
    {
     "data": {
      "text/plain": [
       "'Hello fist line\\nSecundos\\nand last but not least the third one'"
      ]
     },
     "execution_count": 29,
     "metadata": {},
     "output_type": "execute_result"
    }
   ],
   "source": [
    "content"
   ]
  },
  {
   "cell_type": "code",
   "execution_count": 40,
   "metadata": {},
   "outputs": [
    {
     "name": "stdout",
     "output_type": "stream",
     "text": [
      "hmmmmmhould just be added\n",
      "and last but not least the third one\n"
     ]
    }
   ],
   "source": [
    "with open('my_file.txt', mode='r') as t:\n",
    "    print(t.read())"
   ]
  },
  {
   "cell_type": "code",
   "execution_count": 39,
   "metadata": {},
   "outputs": [
    {
     "name": "stdout",
     "output_type": "stream",
     "text": [
      "6\n"
     ]
    }
   ],
   "source": [
    "with open('my_file.txt', mode='r+') as t:\n",
    "    print(t.write('hmmmmm'))"
   ]
  },
  {
   "cell_type": "code",
   "execution_count": 44,
   "metadata": {},
   "outputs": [],
   "source": [
    "with open('my_file.txt',mode='a') as t:\n",
    "    t.write('\\ni see how this works now')"
   ]
  },
  {
   "cell_type": "code",
   "execution_count": 45,
   "metadata": {},
   "outputs": [
    {
     "name": "stdout",
     "output_type": "stream",
     "text": [
      "hmmmmmhould just be added\n",
      "and last but not least the third onei see how this works now\n",
      "i see how this works now\n"
     ]
    }
   ],
   "source": [
    "with open('my_file.txt') as t:\n",
    "    print(t.read())"
   ]
  },
  {
   "cell_type": "code",
   "execution_count": null,
   "metadata": {},
   "outputs": [],
   "source": []
  }
 ],
 "metadata": {
  "kernelspec": {
   "display_name": "Python 3",
   "language": "python",
   "name": "python3"
  },
  "language_info": {
   "codemirror_mode": {
    "name": "ipython",
    "version": 3
   },
   "file_extension": ".py",
   "mimetype": "text/x-python",
   "name": "python",
   "nbconvert_exporter": "python",
   "pygments_lexer": "ipython3",
   "version": "3.7.0"
  }
 },
 "nbformat": 4,
 "nbformat_minor": 2
}
